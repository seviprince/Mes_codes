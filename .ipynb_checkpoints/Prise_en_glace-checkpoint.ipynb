{
 "cells": [
  {
   "cell_type": "markdown",
   "metadata": {},
   "source": [
    "# Modélisation de la prise en glace du stockage\n",
    "\n",
    "En hiver, les déperditions à travers les parois du stockage et l'augmentation de la consommation énergétique de l'habitat provoquent une chute de la température du stockage. \n",
    "La simualtion de nos premiers modèles nous révèle que la température du stockage peut chuter en desous de 0°C et donc l'apparition du gel.\n",
    "Nous procédons dans cette partie à la prise en compte de l'apparition de ce gel.\n",
    "\n",
    "Sois la figure suivante montrant le phénomène de prise en glace\n",
    "\n",
    "![Phenomène de prise en glace](images/prise_en_glace_.png)\n",
    "\n"
   ]
  },
  {
   "cell_type": "markdown",
   "metadata": {},
   "source": [
    "## Mise en équations\n",
    "\n",
    "On note:\n",
    "\n",
    "- $R_g$ le rayon de la glace se formant autour du tube géothermique en (m);\n",
    "\n",
    "- $\\rho_{g}$ la masse volumique de la glace en (kg/$m^3$);\n",
    "\n",
    "- $\\Delta h_{Lg} $ la chaleur latente de fusion de la glace en (kJ/kg);\n",
    "\n",
    "- $ T_f$ la température du fluide (eau ou eau glycolée) en (°C);\n",
    "\n",
    "- $ \\dot m_f $ le débit masique du fluide en (kg/s);\n",
    "\n",
    "- $ R_e$ le rayon extérieur du tube en (m);\n",
    "\n",
    "- $ R_i$ le rayon intérieur du tube en (m);\n",
    "\n",
    "- $ \\lambda $  la conductivité thermique en (W/m.K);\n",
    "\n",
    "- $ dx $ le pas d'espace en (m)\n",
    "\n",
    "- $tu$,$g$ et $f$ indices désigant respectivement le tube, la glace et le fluide.\n",
    "\n",
    "\n",
    "Le flux de chaleur échangée entre le fluide et le stockage s'exprime par:\n",
    "\n",
    "\\begin{equation}\n",
    "\\frac {dQ}{dx}= \\dot m_f C_{pf} \\frac {dT_f}{dx} = \\frac {T_f -0}{\\ln \\frac {R_g}{R_e}}*2 \\pi \\lambda\n",
    "\\end{equation}\n",
    "\n",
    "Ce même flux est celui qui est reçu par la glace :\n",
    "\n",
    "\\begin{equation}\n",
    "\\frac {dQ}{dx}= \\phi 2 \\pi R_g dR_g \\rho_g \\Delta h_{Lg}\n",
    "\\end{equation}\n"
   ]
  },
  {
   "cell_type": "markdown",
   "metadata": {},
   "source": [
    "En abscence de glace, nous avons la figure suivante:\n",
    "\n",
    "![abscence de glace](images/sans_glace.png)\n",
    "\n",
    "Le flux de chaleur dans ce cas est :\n",
    "\n",
    "\\begin{equation}\n",
    "\\frac {dQ}{dx}=2 \\pi \\frac{T_f -T_{sable}}{\\frac{1}{h_i R_i} + \\frac{ \\ln \\frac{R_e}{R_i}}{\\lambda_{tu}}+\\frac{\\ln \\frac{R_{sable}}{R_e}}{\\lambda_{sable}} }\n",
    "\\end{equation}\n"
   ]
  },
  {
   "cell_type": "code",
   "execution_count": null,
   "metadata": {},
   "outputs": [],
   "source": []
  }
 ],
 "metadata": {
  "kernelspec": {
   "display_name": "Python 3",
   "language": "python",
   "name": "python3"
  },
  "language_info": {
   "codemirror_mode": {
    "name": "ipython",
    "version": 3
   },
   "file_extension": ".py",
   "mimetype": "text/x-python",
   "name": "python",
   "nbconvert_exporter": "python",
   "pygments_lexer": "ipython3",
   "version": "3.7.6"
  }
 },
 "nbformat": 4,
 "nbformat_minor": 4
}
