{
 "cells": [
  {
   "cell_type": "markdown",
   "metadata": {},
   "source": [
    "# Modélisation du stockage thermique\n",
    "\n",
    "Une illustration du stockage \n",
    "![schema stockage](images/stock.png)\n"
   ]
  },
  {
   "cell_type": "markdown",
   "metadata": {},
   "source": [
    "## Equations\n",
    "\n",
    "### Couche 1\n",
    "\\begin{equation}\n",
    "m_{sable} Cp_{sable} \\frac{dT_1}{dt}=-\\frac{\\lambda}{e}(T_1-T_2)-\\frac{T_1-T_{ext}}{Rth_{ext}}\n",
    "\\end{equation}\n",
    "\n",
    "### Couche 2\n",
    "\\begin{equation}\n",
    "m_{sable} Cp_{sable} \\frac{dT_2}{dt}=\\frac{\\lambda}{e}((T_1-T_2)-(T_2-T_3))-\\frac{T_2-T_{ext}}{Rth_{ext}}+\\dot Q_{pac}\n",
    "\\end{equation}\n",
    "\n",
    "avec \n",
    "\n",
    "\\begin{equation}\n",
    "\\dot Q_{pac}= \\dot m_{pac}Cp_{pac}(T_{pac\\_out1}-T_{pac\\_in1})=\\frac{T_{pac\\_out1}+T_{pac\\_in1}}{2 Rth_{tube}}\n",
    "\\end{equation}\n",
    "\n",
    "Ce qui donne :\n",
    "\\begin{equation}\n",
    "T_{pac\\_out1}=\\frac{(\\dot m_{pac}-\\frac{1}{2 Rth_{tube}})}{(\\dot m_{pac}-\\frac{1}{2 Rth_{tube}})} *T_{pac\\_in1}\n",
    "\\end{equation}\n",
    "\n",
    "### Couche 3\n",
    "\n",
    "\\begin{equation}\n",
    "m_{sable} Cp_{sable} \\frac{dT_3}{dt}=\\frac{\\lambda}{e}((T_2-T_3)-(T_3-T_4))-\\frac{T_3-T_{ext}}{Rth_{ext}}+\\dot Q_{pac}\n",
    "\\end{equation}\n",
    "\n",
    "### Couche 4 à 10 \n",
    "**Similaire aux équations des couches précédentes**\n",
    "\n",
    "### Couche 11 (béton)\n",
    "\\begin{equation}\n",
    "m_{beton} Cp_{beton} \\frac{dT_11}{dt}=r_{10/11}(T_{10}-T_{11})-r_{11/12}(T_{11}-T_{12})\n",
    "\\end{equation}\n",
    "\n",
    "### Couche 12 et 13\n",
    "**Similaire à celle de la couche 11**"
   ]
  },
  {
   "cell_type": "markdown",
   "metadata": {},
   "source": [
    "## Résolution numérique\n",
    "\n",
    "Schéma de Euler explicite\n",
    "\n",
    "### Couche 1\n",
    "\\begin{equation}\n",
    "T1_{n+1}=T1_{n}+\\frac{dt}{m_{sable}Cp_{sable}}(-\\frac{\\lambda}{e}(T1_{n}-T2_{n})-\\frac{T_{n}-Text_{n}}{Rth_{ext}})\n",
    "\\end{equation}\n"
   ]
  },
  {
   "cell_type": "code",
   "execution_count": null,
   "metadata": {},
   "outputs": [],
   "source": []
  }
 ],
 "metadata": {
  "kernelspec": {
   "display_name": "Python 3",
   "language": "python",
   "name": "python3"
  },
  "language_info": {
   "codemirror_mode": {
    "name": "ipython",
    "version": 3
   },
   "file_extension": ".py",
   "mimetype": "text/x-python",
   "name": "python",
   "nbconvert_exporter": "python",
   "pygments_lexer": "ipython3",
   "version": "3.7.6"
  }
 },
 "nbformat": 4,
 "nbformat_minor": 4
}
